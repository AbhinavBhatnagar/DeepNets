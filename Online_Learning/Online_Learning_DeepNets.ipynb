{
 "cells": [
  {
   "cell_type": "markdown",
   "metadata": {},
   "source": [
    "# Test online learning in DeepNets\n",
    "\n"
   ]
  },
  {
   "cell_type": "code",
   "execution_count": 1,
   "metadata": {
    "collapsed": true
   },
   "outputs": [],
   "source": [
    "%matplotlib inline"
   ]
  },
  {
   "cell_type": "code",
   "execution_count": 2,
   "metadata": {
    "collapsed": false
   },
   "outputs": [
    {
     "name": "stderr",
     "output_type": "stream",
     "text": [
      "Using Theano backend.\n",
      "/Users/admin/.virtualenvs/keras_0_3_2/lib/python2.7/site-packages/theano/tensor/signal/downsample.py:6: UserWarning: downsample module has been moved to the theano.tensor.signal.pool module.\n",
      "  \"downsample module has been moved to the theano.tensor.signal.pool module.\")\n"
     ]
    }
   ],
   "source": [
    "import numpy as np\n",
    "import matplotlib.pyplot as plt\n",
    "plt.rcParams['figure.figsize'] = (7,7) # Make the figures a bit bigger\n",
    "from time import time\n",
    "\n",
    "\n",
    "from keras.datasets import mnist\n",
    "from keras.models import Sequential\n",
    "from keras.layers.core import Dense, Dropout, Activation\n",
    "from keras.utils import np_utils"
   ]
  },
  {
   "cell_type": "code",
   "execution_count": 3,
   "metadata": {
    "collapsed": false
   },
   "outputs": [
    {
     "name": "stdout",
     "output_type": "stream",
     "text": [
      "('X_train original shape', (60000, 28, 28))\n",
      "('y_train original shape', (60000,))\n"
     ]
    }
   ],
   "source": [
    "nb_classes = 10\n",
    "\n",
    "# the data, shuffled and split between tran and test sets\n",
    "(X_train, y_train), (X_test, y_test) = mnist.load_data()\n",
    "print(\"X_train original shape\", X_train.shape)\n",
    "print(\"y_train original shape\", y_train.shape)\n",
    "print(\"X_test original shape\", X_test.shape)\n",
    "print(\"y_test original shape\", y_test.shape)"
   ]
  },
  {
   "cell_type": "code",
   "execution_count": 4,
   "metadata": {
    "collapsed": false
   },
   "outputs": [
    {
     "data": {
      "image/png": "[encoded data removed]",
      "text/plain": [
       "<matplotlib.figure.Figure at 0x109363090>"
      ]
     },
     "metadata": {},
     "output_type": "display_data"
    }
   ],
   "source": [
    "for i in range(9):\n",
    "    plt.subplot(3,3,i+1)\n",
    "    plt.imshow(X_train[i], cmap='gray', interpolation='none')\n",
    "    plt.title(\"Class {}\".format(y_train[i]))"
   ]
  },
  {
   "cell_type": "code",
   "execution_count": 5,
   "metadata": {
    "collapsed": false
   },
   "outputs": [
    {
     "name": "stdout",
     "output_type": "stream",
     "text": [
      "('Training matrix shape', (60000, 784))\n",
      "('Testing matrix shape', (10000, 784))\n"
     ]
    }
   ],
   "source": [
    "X_train = X_train.reshape(60000, 784)\n",
    "X_test = X_test.reshape(10000, 784)\n",
    "X_train = X_train.astype('float32')\n",
    "X_test = X_test.astype('float32')\n",
    "X_train /= 255\n",
    "X_test /= 255\n",
    "print(\"Training matrix shape\", X_train.shape)\n",
    "print(\"Testing matrix shape\", X_test.shape)"
   ]
  },
  {
   "cell_type": "code",
   "execution_count": 6,
   "metadata": {
    "collapsed": false
   },
   "outputs": [],
   "source": [
    "Y_train = np_utils.to_categorical(y_train, nb_classes)\n",
    "Y_test = np_utils.to_categorical(y_test, nb_classes)"
   ]
  },
  {
   "cell_type": "code",
   "execution_count": 7,
   "metadata": {
    "collapsed": true
   },
   "outputs": [],
   "source": [
    "model = Sequential()\n",
    "model.add(Dense(512, input_shape=(784,)))\n",
    "model.add(Activation('relu')) # An \"activation\" is just a non-linear function applied to the output\n",
    "                              # of the layer above. Here, with a \"rectified linear unit\",\n",
    "                              # we clamp all values below 0 to 0.\n",
    "                           \n",
    "model.add(Dropout(0.2))   # Dropout helps protect the model from memorizing or \"overfitting\" the training data\n",
    "model.add(Dense(512))\n",
    "model.add(Activation('relu'))\n",
    "model.add(Dropout(0.2))\n",
    "model.add(Dense(10))\n",
    "model.add(Activation('softmax'))"
   ]
  },
  {
   "cell_type": "code",
   "execution_count": 8,
   "metadata": {
    "collapsed": true
   },
   "outputs": [],
   "source": [
    "model.compile(loss='categorical_crossentropy', optimizer='adam')"
   ]
  },
  {
   "cell_type": "code",
   "execution_count": 9,
   "metadata": {
    "collapsed": false
   },
   "outputs": [
    {
     "name": "stdout",
     "output_type": "stream",
     "text": [
      "Train on 60000 samples, validate on 10000 samples\n",
      "Epoch 1/4\n",
      "60000/60000 [==============================] - 7s - loss: 0.2499 - acc: 0.9258 - val_loss: 0.1106 - val_acc: 0.9641\n",
      "Epoch 2/4\n",
      "60000/60000 [==============================] - 7s - loss: 0.0991 - acc: 0.9697 - val_loss: 0.0754 - val_acc: 0.9763\n",
      "Epoch 3/4\n",
      "60000/60000 [==============================] - 7s - loss: 0.0702 - acc: 0.9777 - val_loss: 0.0761 - val_acc: 0.9769\n",
      "Epoch 4/4\n",
      "60000/60000 [==============================] - 8s - loss: 0.0554 - acc: 0.9821 - val_loss: 0.0674 - val_acc: 0.9795\n"
     ]
    },
    {
     "data": {
      "text/plain": [
       "<keras.callbacks.History at 0x109395fd0>"
      ]
     },
     "execution_count": 9,
     "metadata": {},
     "output_type": "execute_result"
    }
   ],
   "source": [
    "model.fit(X_train, Y_train,\n",
    "          batch_size=128, nb_epoch=4,\n",
    "          show_accuracy=True, verbose=1,\n",
    "          validation_data=(X_test, Y_test))"
   ]
  },
  {
   "cell_type": "code",
   "execution_count": 10,
   "metadata": {
    "collapsed": false
   },
   "outputs": [
    {
     "name": "stdout",
     "output_type": "stream",
     "text": [
      "('Test score:', 0.067372666091844446)\n",
      "('Test accuracy:', 0.97950000000000004)\n"
     ]
    }
   ],
   "source": [
    "score = model.evaluate(X_test, Y_test,\n",
    "                       show_accuracy=True, verbose=0)\n",
    "print('Test score:', score[0])\n",
    "print('Test accuracy:', score[1])"
   ]
  },
  {
   "cell_type": "code",
   "execution_count": 11,
   "metadata": {
    "collapsed": false
   },
   "outputs": [
    {
     "name": "stdout",
     "output_type": "stream",
     "text": [
      "10000/10000 [==============================] - 0s     \n"
     ]
    }
   ],
   "source": [
    "# The predict_classes function outputs the highest probability class\n",
    "# according to the trained classifier for each input example.\n",
    "predicted_classes = model.predict_classes(X_test)\n",
    "\n",
    "# Check which items we got right / wrong\n",
    "correct_indices = np.nonzero(predicted_classes == y_test)[0]\n",
    "incorrect_indices = np.nonzero(predicted_classes != y_test)[0]"
   ]
  },
  {
   "cell_type": "code",
   "execution_count": 12,
   "metadata": {
    "collapsed": false
   },
   "outputs": [
    {
     "name": "stdout",
     "output_type": "stream",
     "text": [
      "9795\n"
     ]
    }
   ],
   "source": [
    "print len(correct_indices)"
   ]
  },
  {
   "cell_type": "code",
   "execution_count": 13,
   "metadata": {
    "collapsed": false
   },
   "outputs": [
    {
     "name": "stdout",
     "output_type": "stream",
     "text": [
      "205\n"
     ]
    }
   ],
   "source": [
    "print len(incorrect_indices)"
   ]
  },
  {
   "cell_type": "markdown",
   "metadata": {},
   "source": [
    "## Lets go the online way !"
   ]
  },
  {
   "cell_type": "code",
   "execution_count": 14,
   "metadata": {
    "collapsed": true
   },
   "outputs": [],
   "source": [
    "model_online = Sequential()\n",
    "model_online.add(Dense(512, input_shape=(784,)))\n",
    "model_online.add(Activation('relu')) # An \"activation\" is just a non-linear function applied to the output\n",
    "                              # of the layer above. Here, with a \"rectified linear unit\",\n",
    "                              # we clamp all values below 0 to 0.\n",
    "                           \n",
    "model_online.add(Dropout(0.2))   # Dropout helps protect the model from memorizing or \"overfitting\" the training data\n",
    "model_online.add(Dense(512))\n",
    "model_online.add(Activation('relu'))\n",
    "model_online.add(Dropout(0.2))\n",
    "model_online.add(Dense(10))\n",
    "model_online.add(Activation('softmax'))"
   ]
  },
  {
   "cell_type": "code",
   "execution_count": 15,
   "metadata": {
    "collapsed": true
   },
   "outputs": [],
   "source": [
    "model_online.compile(loss='categorical_crossentropy', optimizer='adam')"
   ]
  },
  {
   "cell_type": "code",
   "execution_count": 16,
   "metadata": {
    "collapsed": true
   },
   "outputs": [],
   "source": [
    "no_of_samples = len(X_train)\n",
    "\n",
    "batch_size = 1\n",
    "nb_classes = 10\n",
    "nb_epoch = 1\n",
    "start_time = 0\n",
    "end_time = 0"
   ]
  },
  {
   "cell_type": "code",
   "execution_count": 17,
   "metadata": {
    "collapsed": false,
    "scrolled": true
   },
   "outputs": [
    {
     "name": "stdout",
     "output_type": "stream",
     "text": [
      "('Example : %d', 1000)\n",
      "Training on 1000 point took 1461501658.67 secs\n",
      "('Example : %d', 2000)\n",
      "Training on 1000 point took 14.38 secs\n",
      "('Example : %d', 3000)\n",
      "Training on 1000 point took 17.64 secs\n",
      "('Example : %d', 4000)\n",
      "Training on 1000 point took 18.37 secs\n",
      "('Example : %d', 5000)\n",
      "Training on 1000 point took 19.21 secs\n",
      "('Example : %d', 6000)\n",
      "Training on 1000 point took 20.04 secs\n",
      "('Example : %d', 7000)\n",
      "Training on 1000 point took 20.75 secs\n",
      "('Example : %d', 8000)\n",
      "Training on 1000 point took 20.62 secs\n",
      "('Example : %d', 9000)\n",
      "Training on 1000 point took 21.22 secs\n",
      "('Example : %d', 10000)\n",
      "Training on 1000 point took 21.68 secs\n",
      "('Example : %d', 11000)\n",
      "Training on 1000 point took 21.96 secs\n",
      "('Example : %d', 12000)\n",
      "Training on 1000 point took 22.48 secs\n",
      "('Example : %d', 13000)\n",
      "Training on 1000 point took 22.66 secs\n",
      "('Example : %d', 14000)\n",
      "Training on 1000 point took 23.23 secs\n",
      "('Example : %d', 15000)\n",
      "Training on 1000 point took 22.83 secs\n",
      "('Example : %d', 16000)\n",
      "Training on 1000 point took 24.00 secs\n",
      "('Example : %d', 17000)\n",
      "Training on 1000 point took 24.65 secs\n",
      "('Example : %d', 18000)\n",
      "Training on 1000 point took 24.08 secs\n",
      "('Example : %d', 19000)\n",
      "Training on 1000 point took 24.62 secs\n",
      "('Example : %d', 20000)\n",
      "Training on 1000 point took 25.22 secs\n",
      "('Example : %d', 21000)\n",
      "Training on 1000 point took 25.72 secs\n",
      "('Example : %d', 22000)\n",
      "Training on 1000 point took 26.51 secs\n",
      "('Example : %d', 23000)\n",
      "Training on 1000 point took 26.60 secs\n",
      "('Example : %d', 24000)\n",
      "Training on 1000 point took 26.94 secs\n",
      "('Example : %d', 25000)\n",
      "Training on 1000 point took 26.97 secs\n",
      "('Example : %d', 26000)\n",
      "Training on 1000 point took 27.62 secs\n",
      "('Example : %d', 27000)\n",
      "Training on 1000 point took 27.68 secs\n",
      "('Example : %d', 28000)\n",
      "Training on 1000 point took 27.82 secs\n",
      "('Example : %d', 29000)\n",
      "Training on 1000 point took 27.77 secs\n",
      "('Example : %d', 30000)\n",
      "Training on 1000 point took 27.87 secs\n",
      "('Example : %d', 31000)\n",
      "Training on 1000 point took 27.28 secs\n",
      "('Example : %d', 32000)\n",
      "Training on 1000 point took 27.00 secs\n",
      "('Example : %d', 33000)\n",
      "Training on 1000 point took 28.08 secs\n",
      "('Example : %d', 34000)\n",
      "Training on 1000 point took 28.81 secs\n",
      "('Example : %d', 35000)\n",
      "Training on 1000 point took 29.56 secs\n",
      "('Example : %d', 36000)\n",
      "Training on 1000 point took 29.48 secs\n",
      "('Example : %d', 37000)\n",
      "Training on 1000 point took 29.86 secs\n",
      "('Example : %d', 38000)\n",
      "Training on 1000 point took 30.45 secs\n",
      "('Example : %d', 39000)\n",
      "Training on 1000 point took 30.25 secs\n",
      "('Example : %d', 40000)\n",
      "Training on 1000 point took 30.99 secs\n",
      "('Example : %d', 41000)\n",
      "Training on 1000 point took 31.18 secs\n",
      "('Example : %d', 42000)\n",
      "Training on 1000 point took 30.31 secs\n",
      "('Example : %d', 43000)\n",
      "Training on 1000 point took 31.28 secs\n",
      "('Example : %d', 44000)\n",
      "Training on 1000 point took 31.83 secs\n",
      "('Example : %d', 45000)\n",
      "Training on 1000 point took 31.35 secs\n",
      "('Example : %d', 46000)\n",
      "Training on 1000 point took 31.59 secs\n",
      "('Example : %d', 47000)\n",
      "Training on 1000 point took 31.11 secs\n",
      "('Example : %d', 48000)\n",
      "Training on 1000 point took 31.93 secs\n",
      "('Example : %d', 49000)\n",
      "Training on 1000 point took 33.22 secs\n",
      "('Example : %d', 50000)\n",
      "Training on 1000 point took 31.33 secs\n",
      "('Example : %d', 51000)\n",
      "Training on 1000 point took 32.45 secs\n",
      "('Example : %d', 52000)\n",
      "Training on 1000 point took 33.13 secs\n",
      "('Example : %d', 53000)\n",
      "Training on 1000 point took 31.72 secs\n",
      "('Example : %d', 54000)\n",
      "Training on 1000 point took 33.17 secs\n",
      "('Example : %d', 55000)\n",
      "Training on 1000 point took 33.72 secs\n",
      "('Example : %d', 56000)\n",
      "Training on 1000 point took 33.52 secs\n",
      "('Example : %d', 57000)\n",
      "Training on 1000 point took 34.22 secs\n",
      "('Example : %d', 58000)\n",
      "Training on 1000 point took 34.35 secs\n",
      "('Example : %d', 59000)\n",
      "Training on 1000 point took 35.02 secs\n"
     ]
    }
   ],
   "source": [
    "for i in range(no_of_samples):\n",
    "    # print info after consuming 1000 data points\n",
    "    if ((i%1000 == 0) and (i>0)):\n",
    "        print(\"Example : %d\", i)\n",
    "        end_time = time()\n",
    "        time_lapse = end_time - start_time\n",
    "        print(\"Training on 1000 point took %.2f secs\" %(end_time - start_time))\n",
    "        start_time = time()\n",
    "        #start_time = time()\n",
    "\n",
    "    # train on ith data point\n",
    "    model_online.fit(X_train[i:i+1,:], Y_train[i:i+1],\n",
    "          batch_size, nb_epoch,\n",
    "          show_accuracy=True, verbose=0)"
   ]
  },
  {
   "cell_type": "code",
   "execution_count": 18,
   "metadata": {
    "collapsed": false
   },
   "outputs": [
    {
     "name": "stdout",
     "output_type": "stream",
     "text": [
      "('Test score:', 0.29842942390441896)\n",
      "('Test accuracy:', 0.93969999999999998)\n"
     ]
    }
   ],
   "source": [
    "score = model_online.evaluate(X_test, Y_test,\n",
    "                       show_accuracy=True, verbose=0)\n",
    "print('Test score:', score[0])\n",
    "print('Test accuracy:', score[1])"
   ]
  },
  {
   "cell_type": "code",
   "execution_count": 19,
   "metadata": {
    "collapsed": false
   },
   "outputs": [
    {
     "name": "stdout",
     "output_type": "stream",
     "text": [
      "10000/10000 [==============================] - 0s     \n"
     ]
    }
   ],
   "source": [
    "predicted_classes = model_online.predict_classes(X_test)\n",
    "\n",
    "# Check which items we got right / wrong\n",
    "correct_indices = np.nonzero(predicted_classes == y_test)[0]\n",
    "incorrect_indices = np.nonzero(predicted_classes != y_test)[0]"
   ]
  },
  {
   "cell_type": "code",
   "execution_count": 20,
   "metadata": {
    "collapsed": false
   },
   "outputs": [
    {
     "name": "stdout",
     "output_type": "stream",
     "text": [
      "9397\n"
     ]
    }
   ],
   "source": [
    "print len(correct_indices)"
   ]
  },
  {
   "cell_type": "code",
   "execution_count": 21,
   "metadata": {
    "collapsed": false
   },
   "outputs": [
    {
     "name": "stdout",
     "output_type": "stream",
     "text": [
      "603\n"
     ]
    }
   ],
   "source": [
    "print len(incorrect_indices)"
   ]
  },
  {
   "cell_type": "code",
   "execution_count": null,
   "metadata": {
    "collapsed": true
   },
   "outputs": [],
   "source": []
  }
 ],
 "metadata": {
  "kernelspec": {
   "display_name": "Python 2",
   "language": "python",
   "name": "python2"
  },
  "language_info": {
   "codemirror_mode": {
    "name": "ipython",
    "version": 2
   },
   "file_extension": ".py",
   "mimetype": "text/x-python",
   "name": "python",
   "nbconvert_exporter": "python",
   "pygments_lexer": "ipython2",
   "version": "2.7.11"
  }
 },
 "nbformat": 4,
 "nbformat_minor": 0
}
